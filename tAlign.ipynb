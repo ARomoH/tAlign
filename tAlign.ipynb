{
 "cells": [
  {
   "cell_type": "code",
   "execution_count": 16,
   "metadata": {
    "collapsed": true
   },
   "outputs": [],
   "source": [
    "import sys\n",
    "import numpy as np\n",
    "from PIL import Image"
   ]
  },
  {
   "cell_type": "code",
   "execution_count": 17,
   "metadata": {
    "collapsed": true
   },
   "outputs": [],
   "source": [
    "binarized_text = sys.argv[1] if len(sys.argv) == 2 else 'text.png'"
   ]
  },
  {
   "cell_type": "code",
   "execution_count": 18,
   "metadata": {
    "collapsed": false
   },
   "outputs": [],
   "source": [
    "data = np.array(Image.open(binarized_text))\n",
    "fft = np.fft.fft2(data)"
   ]
  },
  {
   "cell_type": "code",
   "execution_count": 19,
   "metadata": {
    "collapsed": false
   },
   "outputs": [],
   "source": [
    "max_peak = np.max(np.abs(fft))\n",
    "fft[fft < (max_peak * 0.25)] = 0\n",
    "abs_data = 1 + np.abs(fft)\n",
    "c = 255.0 / np.log(1 + max_peak)\n",
    "log_data = c * np.log(abs_data)"
   ]
  },
  {
   "cell_type": "code",
   "execution_count": 20,
   "metadata": {
    "collapsed": true
   },
   "outputs": [],
   "source": [
    "max_scaled_peak = np.max(log_data)\n",
    "rows, cols = np.where(log_data > (max_scaled_peak * 0.90))\n",
    "min_col, max_col = np.min(cols), np.max(cols)\n",
    "min_row, max_row = np.min(rows), np.max(rows)\n",
    "dy, dx = max_col - min_col, max_row - min_row\n",
    "theta = np.arctan(dy / float(dx))\n",
    "cos_theta = np.cos(theta)\n",
    "sin_theta = np.sin(theta)"
   ]
  },
  {
   "cell_type": "code",
   "execution_count": 21,
   "metadata": {
    "collapsed": false
   },
   "outputs": [],
   "source": [
    "width, height = data.shape\n",
    "cx, cy = width / 2, height / 2\n",
    "new_image = np.zeros(data.shape)\n",
    "for x, row in enumerate(data):\n",
    "    for y, value in enumerate(row):\n",
    "        xp = cx + (x - cx) * cos_theta - (y - cy) * sin_theta\n",
    "        yp = cy + (x - cx) * sin_theta + (y - cy) * cos_theta\n",
    "        if xp < 0 or yp < 0 or xp > width or yp > height:\n",
    "            continue\n",
    "        new_image[xp, yp] = data[x, y]"
   ]
  },
  {
   "cell_type": "code",
   "execution_count": 22,
   "metadata": {
    "collapsed": true
   },
   "outputs": [],
   "source": [
    "Image.fromarray(np.uint8(new_image) * 255).show()"
   ]
  },
  {
   "cell_type": "code",
   "execution_count": null,
   "metadata": {
    "collapsed": true
   },
   "outputs": [],
   "source": []
  },
  {
   "cell_type": "code",
   "execution_count": null,
   "metadata": {
    "collapsed": true
   },
   "outputs": [],
   "source": []
  }
 ],
 "metadata": {
  "kernelspec": {
   "display_name": "Python 2",
   "language": "python",
   "name": "python2"
  },
  "language_info": {
   "codemirror_mode": {
    "name": "ipython",
    "version": 2
   },
   "file_extension": ".py",
   "mimetype": "text/x-python",
   "name": "python",
   "nbconvert_exporter": "python",
   "pygments_lexer": "ipython2",
   "version": "2.7.9"
  }
 },
 "nbformat": 4,
 "nbformat_minor": 0
}
